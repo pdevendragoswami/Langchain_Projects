export ASTRA_DB_API_ENDPOINT="https://5ae6070d-59df-4dd7-98a1-3008a50ed999-us-east1.apps.astra.datastax.com"
export ASTRA_DB_APPLICATION_TOKEN="YOUR_TOKEN"