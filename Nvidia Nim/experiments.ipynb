{
 "cells": [
  {
   "cell_type": "code",
   "execution_count": 1,
   "id": "7e775dbb",
   "metadata": {},
   "outputs": [
    {
     "data": {
      "text/plain": [
       "True"
      ]
     },
     "execution_count": 1,
     "metadata": {},
     "output_type": "execute_result"
    }
   ],
   "source": [
    "import os\n",
    "from dotenv import load_dotenv\n",
    "load_dotenv()"
   ]
  },
  {
   "cell_type": "code",
   "execution_count": 2,
   "id": "3fdef74e",
   "metadata": {},
   "outputs": [
    {
     "name": "stdout",
     "output_type": "stream",
     "text": [
      "**Machine Learning (ML)** is a subset of Artificial Intelligence (AI) that involves training algorithms to learn from data and make predictions or decisions without being explicitly programmed. It enables computers to automatically improve their performance on a task by learning from experience, rather than relying on manual programming.\n",
      "\n",
      "**Key Characteristics:**\n",
      "\n",
      "1. **Data-driven**: ML relies on large amounts of data to learn patterns and relationships.\n",
      "2. **Self-improvement**: ML algorithms can improve their performance over time through experience and learning.\n",
      "3. **Prediction**: ML models can make predictions or decisions based on input data.\n",
      "4. **Autonomy**: ML systems can operate independently, without human intervention.\n",
      "\n",
      "**Types of Machine Learning:**\n",
      "\n",
      "1. **Supervised Learning**: The algorithm learns from labeled data to make predictions.\n",
      "2. **Unsupervised Learning**: The algorithm discovers patterns and relationships in unlabeled data.\n",
      "3. **Reinforcement Learning**: The algorithm learns through trial and error, receiving rewards or penalties for its actions.\n",
      "\n",
      "**Applications:**\n",
      "\n",
      "1. **Image Recognition**: Self-driving cars, facial recognition, object detection.\n",
      "2. **Natural Language Processing**: Chatbots, language translation, text analysis.\n",
      "3. **Predictive Maintenance**: Predicting equipment failures, scheduling maintenance.\n",
      "4. **Recommendation Systems**: Personalized product recommendations, content suggestions.\n",
      "\n",
      "**Real-World Examples:**\n",
      "\n",
      "1. **Google's Search Algorithm**: Uses ML to rank search results based on relevance and user behavior.\n",
      "2. **Amazon's Product Recommendations**: Uses ML to suggest products based on user browsing and purchasing history.\n",
      "3. **Self-Driving Cars**: Use ML to navigate roads, recognize objects, and make decisions.\n",
      "\n",
      "**Benefits:**\n",
      "\n",
      "1. **Improved Accuracy**: ML can outperform human accuracy in certain tasks.\n",
      "2. **Increased Efficiency**: ML can automate repetitive tasks, freeing up human resources.\n",
      "3. **Enhanced Decision-Making**: ML can provide insights and predictions to inform business decisions.\n",
      "\n",
      "**Challenges:**\n",
      "\n",
      "1. **Data Quality**: ML requires high-quality, diverse, and relevant data.\n",
      "2. **Model Complexity**: ML models can be complex and difficult to interpret.\n",
      "3. **Bias and Fairness**: ML models can perpetuate biases and unfairness if not designed carefully."
     ]
    }
   ],
   "source": [
    "from openai import OpenAI\n",
    "client = OpenAI(\n",
    "  base_url = \"https://integrate.api.nvidia.com/v1\",\n",
    "  api_key = os.getenv(\"NVIDIA_API_KEY\")\n",
    ")\n",
    "\n",
    "completion = client.chat.completions.create(\n",
    "  model=\"meta/llama-3.3-70b-instruct\",\n",
    "  messages=[{\"role\":\"user\",\"content\":\"What is Machine Learning?\"}],\n",
    "  temperature=0.2,\n",
    "  top_p=0.7,\n",
    "  max_tokens=1024,\n",
    "  stream=True\n",
    ")\n",
    "\n",
    "for chunk in completion:\n",
    "  if chunk.choices[0].delta.content is not None:\n",
    "    print(chunk.choices[0].delta.content, end=\"\")\n"
   ]
  },
  {
   "cell_type": "code",
   "execution_count": null,
   "id": "d8191525",
   "metadata": {},
   "outputs": [],
   "source": []
  }
 ],
 "metadata": {
  "kernelspec": {
   "display_name": "venv",
   "language": "python",
   "name": "python3"
  },
  "language_info": {
   "codemirror_mode": {
    "name": "ipython",
    "version": 3
   },
   "file_extension": ".py",
   "mimetype": "text/x-python",
   "name": "python",
   "nbconvert_exporter": "python",
   "pygments_lexer": "ipython3",
   "version": "3.10.12"
  }
 },
 "nbformat": 4,
 "nbformat_minor": 5
}
